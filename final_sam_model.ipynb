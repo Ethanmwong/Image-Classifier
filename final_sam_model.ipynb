{
 "cells": [
  {
   "cell_type": "code",
   "execution_count": 11,
   "metadata": {},
   "outputs": [],
   "source": [
    "import torch\n",
    "import torch.nn as nn\n",
    "from torch.utils.data import DataLoader, Subset, WeightedRandomSampler, random_split\n",
    "import torchvision\n",
    "from sklearn.model_selection import train_test_split, KFold\n",
    "from matplotlib import pyplot as plt\n",
    "from torchvision import transforms, datasets\n",
    "from torchinfo import summary\n",
    "from torch.utils.tensorboard import SummaryWriter\n",
    "import os\n",
    "from pathlib import Path\n",
    "import numpy as np"
   ]
  },
  {
   "cell_type": "code",
   "execution_count": 12,
   "metadata": {},
   "outputs": [
    {
     "data": {
      "text/plain": [
       "device(type='cuda')"
      ]
     },
     "execution_count": 12,
     "metadata": {},
     "output_type": "execute_result"
    }
   ],
   "source": [
    "device = torch.device('cuda' if torch.cuda.is_available() else 'cpu')\n",
    "device"
   ]
  },
  {
   "cell_type": "code",
   "execution_count": 13,
   "metadata": {},
   "outputs": [],
   "source": [
    "data_dir = 'data/train'"
   ]
  },
  {
   "cell_type": "code",
   "execution_count": 14,
   "metadata": {},
   "outputs": [
    {
     "data": {
      "text/plain": [
       "ImageClassification(\n",
       "    crop_size=[480]\n",
       "    resize_size=[480]\n",
       "    mean=[0.5, 0.5, 0.5]\n",
       "    std=[0.5, 0.5, 0.5]\n",
       "    interpolation=InterpolationMode.BICUBIC\n",
       ")"
      ]
     },
     "execution_count": 14,
     "metadata": {},
     "output_type": "execute_result"
    }
   ],
   "source": [
    "#weights = torchvision.models.EfficientNet_V2_S_Weights.IMAGENET1K_V1\n",
    "weights = torchvision.models.EfficientNet_V2_L_Weights.IMAGENET1K_V1\n",
    "auto_transforms = weights.transforms()\n",
    "auto_transforms"
   ]
  },
  {
   "cell_type": "code",
   "execution_count": 15,
   "metadata": {},
   "outputs": [
    {
     "data": {
      "text/plain": [
       "Compose(\n",
       "    RandomHorizontalFlip(p=0.5)\n",
       "    RandomRotation(degrees=[-20.0, 20.0], interpolation=nearest, expand=False, fill=0)\n",
       "    Lambda()\n",
       ")"
      ]
     },
     "execution_count": 15,
     "metadata": {},
     "output_type": "execute_result"
    }
   ],
   "source": [
    "adjusted_transforms = transforms.Compose([\n",
    "    transforms.RandomHorizontalFlip(),\n",
    "    #transforms.RandomVerticalFlip(),\n",
    "    transforms.RandomRotation(20),\n",
    "    #transforms.ColorJitter(brightness=0.2, contrast=0.2, saturation=0.2),\n",
    "    transforms.Lambda(lambda img: auto_transforms(img))\n",
    "])\n",
    "adjusted_transforms"
   ]
  },
  {
   "cell_type": "code",
   "execution_count": 16,
   "metadata": {},
   "outputs": [
    {
     "data": {
      "text/plain": [
       "===========================================================================================================================================================\n",
       "Layer (type:depth-idx)                                  Input Shape               Output Shape              Param #                   Trainable\n",
       "===========================================================================================================================================================\n",
       "EfficientNet                                            [16, 3, 480, 480]         [16, 1000]                --                        True\n",
       "├─Sequential: 1-1                                       [16, 3, 480, 480]         [16, 1280, 15, 15]        --                        True\n",
       "│    └─Conv2dNormActivation: 2-1                        [16, 3, 480, 480]         [16, 32, 240, 240]        --                        True\n",
       "│    │    └─Conv2d: 3-1                                 [16, 3, 480, 480]         [16, 32, 240, 240]        864                       True\n",
       "│    │    └─BatchNorm2d: 3-2                            [16, 32, 240, 240]        [16, 32, 240, 240]        64                        True\n",
       "│    │    └─SiLU: 3-3                                   [16, 32, 240, 240]        [16, 32, 240, 240]        --                        --\n",
       "│    └─Sequential: 2-2                                  [16, 32, 240, 240]        [16, 32, 240, 240]        --                        True\n",
       "│    │    └─FusedMBConv: 3-4                            [16, 32, 240, 240]        [16, 32, 240, 240]        9,280                     True\n",
       "│    │    └─FusedMBConv: 3-5                            [16, 32, 240, 240]        [16, 32, 240, 240]        9,280                     True\n",
       "│    │    └─FusedMBConv: 3-6                            [16, 32, 240, 240]        [16, 32, 240, 240]        9,280                     True\n",
       "│    │    └─FusedMBConv: 3-7                            [16, 32, 240, 240]        [16, 32, 240, 240]        9,280                     True\n",
       "│    └─Sequential: 2-3                                  [16, 32, 240, 240]        [16, 64, 120, 120]        --                        True\n",
       "│    │    └─FusedMBConv: 3-8                            [16, 32, 240, 240]        [16, 64, 120, 120]        45,440                    True\n",
       "│    │    └─FusedMBConv: 3-9                            [16, 64, 120, 120]        [16, 64, 120, 120]        164,480                   True\n",
       "│    │    └─FusedMBConv: 3-10                           [16, 64, 120, 120]        [16, 64, 120, 120]        164,480                   True\n",
       "│    │    └─FusedMBConv: 3-11                           [16, 64, 120, 120]        [16, 64, 120, 120]        164,480                   True\n",
       "│    │    └─FusedMBConv: 3-12                           [16, 64, 120, 120]        [16, 64, 120, 120]        164,480                   True\n",
       "│    │    └─FusedMBConv: 3-13                           [16, 64, 120, 120]        [16, 64, 120, 120]        164,480                   True\n",
       "│    │    └─FusedMBConv: 3-14                           [16, 64, 120, 120]        [16, 64, 120, 120]        164,480                   True\n",
       "│    └─Sequential: 2-4                                  [16, 64, 120, 120]        [16, 96, 60, 60]          --                        True\n",
       "│    │    └─FusedMBConv: 3-15                           [16, 64, 120, 120]        [16, 96, 60, 60]          172,736                   True\n",
       "│    │    └─FusedMBConv: 3-16                           [16, 96, 60, 60]          [16, 96, 60, 60]          369,600                   True\n",
       "│    │    └─FusedMBConv: 3-17                           [16, 96, 60, 60]          [16, 96, 60, 60]          369,600                   True\n",
       "│    │    └─FusedMBConv: 3-18                           [16, 96, 60, 60]          [16, 96, 60, 60]          369,600                   True\n",
       "│    │    └─FusedMBConv: 3-19                           [16, 96, 60, 60]          [16, 96, 60, 60]          369,600                   True\n",
       "│    │    └─FusedMBConv: 3-20                           [16, 96, 60, 60]          [16, 96, 60, 60]          369,600                   True\n",
       "│    │    └─FusedMBConv: 3-21                           [16, 96, 60, 60]          [16, 96, 60, 60]          369,600                   True\n",
       "│    └─Sequential: 2-5                                  [16, 96, 60, 60]          [16, 192, 30, 30]         --                        True\n",
       "│    │    └─MBConv: 3-22                                [16, 96, 60, 60]          [16, 192, 30, 30]         134,808                   True\n",
       "│    │    └─MBConv: 3-23                                [16, 192, 30, 30]         [16, 192, 30, 30]         379,824                   True\n",
       "│    │    └─MBConv: 3-24                                [16, 192, 30, 30]         [16, 192, 30, 30]         379,824                   True\n",
       "│    │    └─MBConv: 3-25                                [16, 192, 30, 30]         [16, 192, 30, 30]         379,824                   True\n",
       "│    │    └─MBConv: 3-26                                [16, 192, 30, 30]         [16, 192, 30, 30]         379,824                   True\n",
       "│    │    └─MBConv: 3-27                                [16, 192, 30, 30]         [16, 192, 30, 30]         379,824                   True\n",
       "│    │    └─MBConv: 3-28                                [16, 192, 30, 30]         [16, 192, 30, 30]         379,824                   True\n",
       "│    │    └─MBConv: 3-29                                [16, 192, 30, 30]         [16, 192, 30, 30]         379,824                   True\n",
       "│    │    └─MBConv: 3-30                                [16, 192, 30, 30]         [16, 192, 30, 30]         379,824                   True\n",
       "│    │    └─MBConv: 3-31                                [16, 192, 30, 30]         [16, 192, 30, 30]         379,824                   True\n",
       "│    └─Sequential: 2-6                                  [16, 192, 30, 30]         [16, 224, 30, 30]         --                        True\n",
       "│    │    └─MBConv: 3-32                                [16, 192, 30, 30]         [16, 224, 30, 30]         606,448                   True\n",
       "│    │    └─MBConv: 3-33                                [16, 224, 30, 30]         [16, 224, 30, 30]         771,960                   True\n",
       "│    │    └─MBConv: 3-34                                [16, 224, 30, 30]         [16, 224, 30, 30]         771,960                   True\n",
       "│    │    └─MBConv: 3-35                                [16, 224, 30, 30]         [16, 224, 30, 30]         771,960                   True\n",
       "│    │    └─MBConv: 3-36                                [16, 224, 30, 30]         [16, 224, 30, 30]         771,960                   True\n",
       "│    │    └─MBConv: 3-37                                [16, 224, 30, 30]         [16, 224, 30, 30]         771,960                   True\n",
       "│    │    └─MBConv: 3-38                                [16, 224, 30, 30]         [16, 224, 30, 30]         771,960                   True\n",
       "│    │    └─MBConv: 3-39                                [16, 224, 30, 30]         [16, 224, 30, 30]         771,960                   True\n",
       "│    │    └─MBConv: 3-40                                [16, 224, 30, 30]         [16, 224, 30, 30]         771,960                   True\n",
       "│    │    └─MBConv: 3-41                                [16, 224, 30, 30]         [16, 224, 30, 30]         771,960                   True\n",
       "│    │    └─MBConv: 3-42                                [16, 224, 30, 30]         [16, 224, 30, 30]         771,960                   True\n",
       "│    │    └─MBConv: 3-43                                [16, 224, 30, 30]         [16, 224, 30, 30]         771,960                   True\n",
       "│    │    └─MBConv: 3-44                                [16, 224, 30, 30]         [16, 224, 30, 30]         771,960                   True\n",
       "│    │    └─MBConv: 3-45                                [16, 224, 30, 30]         [16, 224, 30, 30]         771,960                   True\n",
       "│    │    └─MBConv: 3-46                                [16, 224, 30, 30]         [16, 224, 30, 30]         771,960                   True\n",
       "│    │    └─MBConv: 3-47                                [16, 224, 30, 30]         [16, 224, 30, 30]         771,960                   True\n",
       "│    │    └─MBConv: 3-48                                [16, 224, 30, 30]         [16, 224, 30, 30]         771,960                   True\n",
       "│    │    └─MBConv: 3-49                                [16, 224, 30, 30]         [16, 224, 30, 30]         771,960                   True\n",
       "│    │    └─MBConv: 3-50                                [16, 224, 30, 30]         [16, 224, 30, 30]         771,960                   True\n",
       "│    └─Sequential: 2-7                                  [16, 224, 30, 30]         [16, 384, 15, 15]         --                        True\n",
       "│    │    └─MBConv: 3-51                                [16, 224, 30, 30]         [16, 384, 15, 15]         987,320                   True\n",
       "│    │    └─MBConv: 3-52                                [16, 384, 15, 15]         [16, 384, 15, 15]         2,244,960                 True\n",
       "│    │    └─MBConv: 3-53                                [16, 384, 15, 15]         [16, 384, 15, 15]         2,244,960                 True\n",
       "│    │    └─MBConv: 3-54                                [16, 384, 15, 15]         [16, 384, 15, 15]         2,244,960                 True\n",
       "│    │    └─MBConv: 3-55                                [16, 384, 15, 15]         [16, 384, 15, 15]         2,244,960                 True\n",
       "│    │    └─MBConv: 3-56                                [16, 384, 15, 15]         [16, 384, 15, 15]         2,244,960                 True\n",
       "│    │    └─MBConv: 3-57                                [16, 384, 15, 15]         [16, 384, 15, 15]         2,244,960                 True\n",
       "│    │    └─MBConv: 3-58                                [16, 384, 15, 15]         [16, 384, 15, 15]         2,244,960                 True\n",
       "│    │    └─MBConv: 3-59                                [16, 384, 15, 15]         [16, 384, 15, 15]         2,244,960                 True\n",
       "│    │    └─MBConv: 3-60                                [16, 384, 15, 15]         [16, 384, 15, 15]         2,244,960                 True\n",
       "│    │    └─MBConv: 3-61                                [16, 384, 15, 15]         [16, 384, 15, 15]         2,244,960                 True\n",
       "│    │    └─MBConv: 3-62                                [16, 384, 15, 15]         [16, 384, 15, 15]         2,244,960                 True\n",
       "│    │    └─MBConv: 3-63                                [16, 384, 15, 15]         [16, 384, 15, 15]         2,244,960                 True\n",
       "│    │    └─MBConv: 3-64                                [16, 384, 15, 15]         [16, 384, 15, 15]         2,244,960                 True\n",
       "│    │    └─MBConv: 3-65                                [16, 384, 15, 15]         [16, 384, 15, 15]         2,244,960                 True\n",
       "│    │    └─MBConv: 3-66                                [16, 384, 15, 15]         [16, 384, 15, 15]         2,244,960                 True\n",
       "│    │    └─MBConv: 3-67                                [16, 384, 15, 15]         [16, 384, 15, 15]         2,244,960                 True\n",
       "│    │    └─MBConv: 3-68                                [16, 384, 15, 15]         [16, 384, 15, 15]         2,244,960                 True\n",
       "│    │    └─MBConv: 3-69                                [16, 384, 15, 15]         [16, 384, 15, 15]         2,244,960                 True\n",
       "│    │    └─MBConv: 3-70                                [16, 384, 15, 15]         [16, 384, 15, 15]         2,244,960                 True\n",
       "│    │    └─MBConv: 3-71                                [16, 384, 15, 15]         [16, 384, 15, 15]         2,244,960                 True\n",
       "│    │    └─MBConv: 3-72                                [16, 384, 15, 15]         [16, 384, 15, 15]         2,244,960                 True\n",
       "│    │    └─MBConv: 3-73                                [16, 384, 15, 15]         [16, 384, 15, 15]         2,244,960                 True\n",
       "│    │    └─MBConv: 3-74                                [16, 384, 15, 15]         [16, 384, 15, 15]         2,244,960                 True\n",
       "│    │    └─MBConv: 3-75                                [16, 384, 15, 15]         [16, 384, 15, 15]         2,244,960                 True\n",
       "│    └─Sequential: 2-8                                  [16, 384, 15, 15]         [16, 640, 15, 15]         --                        True\n",
       "│    │    └─MBConv: 3-76                                [16, 384, 15, 15]         [16, 640, 15, 15]         2,835,296                 True\n",
       "│    │    └─MBConv: 3-77                                [16, 640, 15, 15]         [16, 640, 15, 15]         6,199,200                 True\n",
       "│    │    └─MBConv: 3-78                                [16, 640, 15, 15]         [16, 640, 15, 15]         6,199,200                 True\n",
       "│    │    └─MBConv: 3-79                                [16, 640, 15, 15]         [16, 640, 15, 15]         6,199,200                 True\n",
       "│    │    └─MBConv: 3-80                                [16, 640, 15, 15]         [16, 640, 15, 15]         6,199,200                 True\n",
       "│    │    └─MBConv: 3-81                                [16, 640, 15, 15]         [16, 640, 15, 15]         6,199,200                 True\n",
       "│    │    └─MBConv: 3-82                                [16, 640, 15, 15]         [16, 640, 15, 15]         6,199,200                 True\n",
       "│    └─Conv2dNormActivation: 2-9                        [16, 640, 15, 15]         [16, 1280, 15, 15]        --                        True\n",
       "│    │    └─Conv2d: 3-83                                [16, 640, 15, 15]         [16, 1280, 15, 15]        819,200                   True\n",
       "│    │    └─BatchNorm2d: 3-84                           [16, 1280, 15, 15]        [16, 1280, 15, 15]        2,560                     True\n",
       "│    │    └─SiLU: 3-85                                  [16, 1280, 15, 15]        [16, 1280, 15, 15]        --                        --\n",
       "├─AdaptiveAvgPool2d: 1-2                                [16, 1280, 15, 15]        [16, 1280, 1, 1]          --                        --\n",
       "├─Sequential: 1-3                                       [16, 1280]                [16, 1000]                --                        True\n",
       "│    └─Dropout: 2-10                                    [16, 1280]                [16, 1280]                --                        --\n",
       "│    └─Linear: 2-11                                     [16, 1280]                [16, 1000]                1,281,000                 True\n",
       "===========================================================================================================================================================\n",
       "Total params: 118,515,272\n",
       "Trainable params: 118,515,272\n",
       "Non-trainable params: 0\n",
       "Total mult-adds (Units.GIGABYTES): 897.29\n",
       "===========================================================================================================================================================\n",
       "Input size (MB): 44.24\n",
       "Forward/backward pass size (MB): 40429.43\n",
       "Params size (MB): 474.06\n",
       "Estimated Total Size (MB): 40947.73\n",
       "==========================================================================================================================================================="
      ]
     },
     "execution_count": 16,
     "metadata": {},
     "output_type": "execute_result"
    }
   ],
   "source": [
    "from tools.data_prep import create_dataloaders\n",
    "\n",
    "train_loader, test_loader, class_names = create_dataloaders(path=data_dir, train_transform=adjusted_transforms, test_transform=auto_transforms, batch_size=16, train_split=0.8, seed=4422)\n",
    "model = torchvision.models.efficientnet_v2_l(weights=weights)\n",
    "\n",
    "num_classes = len(class_names)\n",
    "\n",
    "summary(model, input_size=(16, 3, 480, 480), col_names=[\"input_size\", \"output_size\", \"num_params\", \"trainable\"])"
   ]
  },
  {
   "cell_type": "code",
   "execution_count": 17,
   "metadata": {},
   "outputs": [],
   "source": [
    "from tools.engine import train\n",
    "from tools.engine import sam_train\n",
    "from tools.test_tracking import create_writer\n",
    "from tools.sam import SAM\n",
    "\n",
    "torch.manual_seed(42)\n",
    "torch.cuda.manual_seed(42)\n",
    "\n",
    "for param in model.parameters():\n",
    "    param.requires_grad = False\n",
    "\n",
    "if hasattr(model, 'features') and isinstance(model.features, torch.nn.Sequential):\n",
    "    for param in model.features[-1:].parameters():\n",
    "        param.requires_grad = True\n",
    "\n",
    "model.classifier = nn.Sequential(\n",
    "    nn.Dropout(p=0.25, inplace=False),\n",
    "    nn.Linear(1280, num_classes)\n",
    ").to(device)\n",
    "\n",
    "# Enable gradients for the new classifier layer\n",
    "for param in model.classifier.parameters():\n",
    "    param.requires_grad = True"
   ]
  },
  {
   "cell_type": "code",
   "execution_count": 33,
   "metadata": {},
   "outputs": [
    {
     "data": {
      "text/plain": [
       "===========================================================================================================================================================\n",
       "Layer (type:depth-idx)                                  Input Shape               Output Shape              Param #                   Trainable\n",
       "===========================================================================================================================================================\n",
       "EfficientNet                                            [16, 3, 480, 480]         [16, 100]                 --                        Partial\n",
       "├─Sequential: 1-1                                       [16, 3, 480, 480]         [16, 1280, 15, 15]        --                        Partial\n",
       "│    └─Conv2dNormActivation: 2-1                        [16, 3, 480, 480]         [16, 32, 240, 240]        --                        False\n",
       "│    │    └─Conv2d: 3-1                                 [16, 3, 480, 480]         [16, 32, 240, 240]        (864)                     False\n",
       "│    │    └─BatchNorm2d: 3-2                            [16, 32, 240, 240]        [16, 32, 240, 240]        (64)                      False\n",
       "│    │    └─SiLU: 3-3                                   [16, 32, 240, 240]        [16, 32, 240, 240]        --                        --\n",
       "│    └─Sequential: 2-2                                  [16, 32, 240, 240]        [16, 32, 240, 240]        --                        False\n",
       "│    │    └─FusedMBConv: 3-4                            [16, 32, 240, 240]        [16, 32, 240, 240]        (9,280)                   False\n",
       "│    │    └─FusedMBConv: 3-5                            [16, 32, 240, 240]        [16, 32, 240, 240]        (9,280)                   False\n",
       "│    │    └─FusedMBConv: 3-6                            [16, 32, 240, 240]        [16, 32, 240, 240]        (9,280)                   False\n",
       "│    │    └─FusedMBConv: 3-7                            [16, 32, 240, 240]        [16, 32, 240, 240]        (9,280)                   False\n",
       "│    └─Sequential: 2-3                                  [16, 32, 240, 240]        [16, 64, 120, 120]        --                        False\n",
       "│    │    └─FusedMBConv: 3-8                            [16, 32, 240, 240]        [16, 64, 120, 120]        (45,440)                  False\n",
       "│    │    └─FusedMBConv: 3-9                            [16, 64, 120, 120]        [16, 64, 120, 120]        (164,480)                 False\n",
       "│    │    └─FusedMBConv: 3-10                           [16, 64, 120, 120]        [16, 64, 120, 120]        (164,480)                 False\n",
       "│    │    └─FusedMBConv: 3-11                           [16, 64, 120, 120]        [16, 64, 120, 120]        (164,480)                 False\n",
       "│    │    └─FusedMBConv: 3-12                           [16, 64, 120, 120]        [16, 64, 120, 120]        (164,480)                 False\n",
       "│    │    └─FusedMBConv: 3-13                           [16, 64, 120, 120]        [16, 64, 120, 120]        (164,480)                 False\n",
       "│    │    └─FusedMBConv: 3-14                           [16, 64, 120, 120]        [16, 64, 120, 120]        (164,480)                 False\n",
       "│    └─Sequential: 2-4                                  [16, 64, 120, 120]        [16, 96, 60, 60]          --                        False\n",
       "│    │    └─FusedMBConv: 3-15                           [16, 64, 120, 120]        [16, 96, 60, 60]          (172,736)                 False\n",
       "│    │    └─FusedMBConv: 3-16                           [16, 96, 60, 60]          [16, 96, 60, 60]          (369,600)                 False\n",
       "│    │    └─FusedMBConv: 3-17                           [16, 96, 60, 60]          [16, 96, 60, 60]          (369,600)                 False\n",
       "│    │    └─FusedMBConv: 3-18                           [16, 96, 60, 60]          [16, 96, 60, 60]          (369,600)                 False\n",
       "│    │    └─FusedMBConv: 3-19                           [16, 96, 60, 60]          [16, 96, 60, 60]          (369,600)                 False\n",
       "│    │    └─FusedMBConv: 3-20                           [16, 96, 60, 60]          [16, 96, 60, 60]          (369,600)                 False\n",
       "│    │    └─FusedMBConv: 3-21                           [16, 96, 60, 60]          [16, 96, 60, 60]          (369,600)                 False\n",
       "│    └─Sequential: 2-5                                  [16, 96, 60, 60]          [16, 192, 30, 30]         --                        False\n",
       "│    │    └─MBConv: 3-22                                [16, 96, 60, 60]          [16, 192, 30, 30]         (134,808)                 False\n",
       "│    │    └─MBConv: 3-23                                [16, 192, 30, 30]         [16, 192, 30, 30]         (379,824)                 False\n",
       "│    │    └─MBConv: 3-24                                [16, 192, 30, 30]         [16, 192, 30, 30]         (379,824)                 False\n",
       "│    │    └─MBConv: 3-25                                [16, 192, 30, 30]         [16, 192, 30, 30]         (379,824)                 False\n",
       "│    │    └─MBConv: 3-26                                [16, 192, 30, 30]         [16, 192, 30, 30]         (379,824)                 False\n",
       "│    │    └─MBConv: 3-27                                [16, 192, 30, 30]         [16, 192, 30, 30]         (379,824)                 False\n",
       "│    │    └─MBConv: 3-28                                [16, 192, 30, 30]         [16, 192, 30, 30]         (379,824)                 False\n",
       "│    │    └─MBConv: 3-29                                [16, 192, 30, 30]         [16, 192, 30, 30]         (379,824)                 False\n",
       "│    │    └─MBConv: 3-30                                [16, 192, 30, 30]         [16, 192, 30, 30]         (379,824)                 False\n",
       "│    │    └─MBConv: 3-31                                [16, 192, 30, 30]         [16, 192, 30, 30]         (379,824)                 False\n",
       "│    └─Sequential: 2-6                                  [16, 192, 30, 30]         [16, 224, 30, 30]         --                        False\n",
       "│    │    └─MBConv: 3-32                                [16, 192, 30, 30]         [16, 224, 30, 30]         (606,448)                 False\n",
       "│    │    └─MBConv: 3-33                                [16, 224, 30, 30]         [16, 224, 30, 30]         (771,960)                 False\n",
       "│    │    └─MBConv: 3-34                                [16, 224, 30, 30]         [16, 224, 30, 30]         (771,960)                 False\n",
       "│    │    └─MBConv: 3-35                                [16, 224, 30, 30]         [16, 224, 30, 30]         (771,960)                 False\n",
       "│    │    └─MBConv: 3-36                                [16, 224, 30, 30]         [16, 224, 30, 30]         (771,960)                 False\n",
       "│    │    └─MBConv: 3-37                                [16, 224, 30, 30]         [16, 224, 30, 30]         (771,960)                 False\n",
       "│    │    └─MBConv: 3-38                                [16, 224, 30, 30]         [16, 224, 30, 30]         (771,960)                 False\n",
       "│    │    └─MBConv: 3-39                                [16, 224, 30, 30]         [16, 224, 30, 30]         (771,960)                 False\n",
       "│    │    └─MBConv: 3-40                                [16, 224, 30, 30]         [16, 224, 30, 30]         (771,960)                 False\n",
       "│    │    └─MBConv: 3-41                                [16, 224, 30, 30]         [16, 224, 30, 30]         (771,960)                 False\n",
       "│    │    └─MBConv: 3-42                                [16, 224, 30, 30]         [16, 224, 30, 30]         (771,960)                 False\n",
       "│    │    └─MBConv: 3-43                                [16, 224, 30, 30]         [16, 224, 30, 30]         (771,960)                 False\n",
       "│    │    └─MBConv: 3-44                                [16, 224, 30, 30]         [16, 224, 30, 30]         (771,960)                 False\n",
       "│    │    └─MBConv: 3-45                                [16, 224, 30, 30]         [16, 224, 30, 30]         (771,960)                 False\n",
       "│    │    └─MBConv: 3-46                                [16, 224, 30, 30]         [16, 224, 30, 30]         (771,960)                 False\n",
       "│    │    └─MBConv: 3-47                                [16, 224, 30, 30]         [16, 224, 30, 30]         (771,960)                 False\n",
       "│    │    └─MBConv: 3-48                                [16, 224, 30, 30]         [16, 224, 30, 30]         (771,960)                 False\n",
       "│    │    └─MBConv: 3-49                                [16, 224, 30, 30]         [16, 224, 30, 30]         (771,960)                 False\n",
       "│    │    └─MBConv: 3-50                                [16, 224, 30, 30]         [16, 224, 30, 30]         (771,960)                 False\n",
       "│    └─Sequential: 2-7                                  [16, 224, 30, 30]         [16, 384, 15, 15]         --                        False\n",
       "│    │    └─MBConv: 3-51                                [16, 224, 30, 30]         [16, 384, 15, 15]         (987,320)                 False\n",
       "│    │    └─MBConv: 3-52                                [16, 384, 15, 15]         [16, 384, 15, 15]         (2,244,960)               False\n",
       "│    │    └─MBConv: 3-53                                [16, 384, 15, 15]         [16, 384, 15, 15]         (2,244,960)               False\n",
       "│    │    └─MBConv: 3-54                                [16, 384, 15, 15]         [16, 384, 15, 15]         (2,244,960)               False\n",
       "│    │    └─MBConv: 3-55                                [16, 384, 15, 15]         [16, 384, 15, 15]         (2,244,960)               False\n",
       "│    │    └─MBConv: 3-56                                [16, 384, 15, 15]         [16, 384, 15, 15]         (2,244,960)               False\n",
       "│    │    └─MBConv: 3-57                                [16, 384, 15, 15]         [16, 384, 15, 15]         (2,244,960)               False\n",
       "│    │    └─MBConv: 3-58                                [16, 384, 15, 15]         [16, 384, 15, 15]         (2,244,960)               False\n",
       "│    │    └─MBConv: 3-59                                [16, 384, 15, 15]         [16, 384, 15, 15]         (2,244,960)               False\n",
       "│    │    └─MBConv: 3-60                                [16, 384, 15, 15]         [16, 384, 15, 15]         (2,244,960)               False\n",
       "│    │    └─MBConv: 3-61                                [16, 384, 15, 15]         [16, 384, 15, 15]         (2,244,960)               False\n",
       "│    │    └─MBConv: 3-62                                [16, 384, 15, 15]         [16, 384, 15, 15]         (2,244,960)               False\n",
       "│    │    └─MBConv: 3-63                                [16, 384, 15, 15]         [16, 384, 15, 15]         (2,244,960)               False\n",
       "│    │    └─MBConv: 3-64                                [16, 384, 15, 15]         [16, 384, 15, 15]         (2,244,960)               False\n",
       "│    │    └─MBConv: 3-65                                [16, 384, 15, 15]         [16, 384, 15, 15]         (2,244,960)               False\n",
       "│    │    └─MBConv: 3-66                                [16, 384, 15, 15]         [16, 384, 15, 15]         (2,244,960)               False\n",
       "│    │    └─MBConv: 3-67                                [16, 384, 15, 15]         [16, 384, 15, 15]         (2,244,960)               False\n",
       "│    │    └─MBConv: 3-68                                [16, 384, 15, 15]         [16, 384, 15, 15]         (2,244,960)               False\n",
       "│    │    └─MBConv: 3-69                                [16, 384, 15, 15]         [16, 384, 15, 15]         (2,244,960)               False\n",
       "│    │    └─MBConv: 3-70                                [16, 384, 15, 15]         [16, 384, 15, 15]         (2,244,960)               False\n",
       "│    │    └─MBConv: 3-71                                [16, 384, 15, 15]         [16, 384, 15, 15]         (2,244,960)               False\n",
       "│    │    └─MBConv: 3-72                                [16, 384, 15, 15]         [16, 384, 15, 15]         (2,244,960)               False\n",
       "│    │    └─MBConv: 3-73                                [16, 384, 15, 15]         [16, 384, 15, 15]         (2,244,960)               False\n",
       "│    │    └─MBConv: 3-74                                [16, 384, 15, 15]         [16, 384, 15, 15]         (2,244,960)               False\n",
       "│    │    └─MBConv: 3-75                                [16, 384, 15, 15]         [16, 384, 15, 15]         (2,244,960)               False\n",
       "│    └─Sequential: 2-8                                  [16, 384, 15, 15]         [16, 640, 15, 15]         --                        False\n",
       "│    │    └─MBConv: 3-76                                [16, 384, 15, 15]         [16, 640, 15, 15]         (2,835,296)               False\n",
       "│    │    └─MBConv: 3-77                                [16, 640, 15, 15]         [16, 640, 15, 15]         (6,199,200)               False\n",
       "│    │    └─MBConv: 3-78                                [16, 640, 15, 15]         [16, 640, 15, 15]         (6,199,200)               False\n",
       "│    │    └─MBConv: 3-79                                [16, 640, 15, 15]         [16, 640, 15, 15]         (6,199,200)               False\n",
       "│    │    └─MBConv: 3-80                                [16, 640, 15, 15]         [16, 640, 15, 15]         (6,199,200)               False\n",
       "│    │    └─MBConv: 3-81                                [16, 640, 15, 15]         [16, 640, 15, 15]         (6,199,200)               False\n",
       "│    │    └─MBConv: 3-82                                [16, 640, 15, 15]         [16, 640, 15, 15]         (6,199,200)               False\n",
       "│    └─Conv2dNormActivation: 2-9                        [16, 640, 15, 15]         [16, 1280, 15, 15]        --                        True\n",
       "│    │    └─Conv2d: 3-83                                [16, 640, 15, 15]         [16, 1280, 15, 15]        819,200                   True\n",
       "│    │    └─BatchNorm2d: 3-84                           [16, 1280, 15, 15]        [16, 1280, 15, 15]        2,560                     True\n",
       "│    │    └─SiLU: 3-85                                  [16, 1280, 15, 15]        [16, 1280, 15, 15]        --                        --\n",
       "├─AdaptiveAvgPool2d: 1-2                                [16, 1280, 15, 15]        [16, 1280, 1, 1]          --                        --\n",
       "├─Sequential: 1-3                                       [16, 1280]                [16, 100]                 --                        True\n",
       "│    └─Dropout: 2-10                                    [16, 1280]                [16, 1280]                --                        --\n",
       "│    └─Linear: 2-11                                     [16, 1280]                [16, 100]                 128,100                   True\n",
       "===========================================================================================================================================================\n",
       "Total params: 117,362,372\n",
       "Trainable params: 949,860\n",
       "Non-trainable params: 116,412,512\n",
       "Total mult-adds (Units.GIGABYTES): 897.27\n",
       "===========================================================================================================================================================\n",
       "Input size (MB): 44.24\n",
       "Forward/backward pass size (MB): 40429.32\n",
       "Params size (MB): 469.45\n",
       "Estimated Total Size (MB): 40943.01\n",
       "==========================================================================================================================================================="
      ]
     },
     "execution_count": 33,
     "metadata": {},
     "output_type": "execute_result"
    }
   ],
   "source": [
    "summary(model, input_size=(16, 3, 480, 480), col_names=[\"input_size\", \"output_size\", \"num_params\", \"trainable\"])"
   ]
  },
  {
   "cell_type": "code",
   "execution_count": 19,
   "metadata": {},
   "outputs": [],
   "source": [
    "loss_fn = nn.CrossEntropyLoss()\n",
    "base_optimizer = torch.optim.SGD\n",
    "optimizer = SAM(model.parameters(), base_optimizer, lr=0.004, rho=1.5, momentum=0.9)\n",
    "\n",
    "writer = create_writer('EfficientNet_V2_L', 'All', '301-400epochs', '0.8split', 'SAM', 'SGD', '0.9momentum', '0.004lr', '1.5rho', 'seperate_transforms', '0.25dropout', 'one_layers_unfrozen')"
   ]
  },
  {
   "cell_type": "code",
   "execution_count": 31,
   "metadata": {},
   "outputs": [
    {
     "data": {
      "application/vnd.jupyter.widget-view+json": {
       "model_id": "de555433faa9407d88141b5d47cae657",
       "version_major": 2,
       "version_minor": 0
      },
      "text/plain": [
       "  0%|          | 0/100 [00:00<?, ?it/s]"
      ]
     },
     "metadata": {},
     "output_type": "display_data"
    }
   ],
   "source": [
    "for i in range(0, 13):\n",
    "    end = i + 1\n",
    "\n",
    "    s = str(i) + '00' + \"-\" + str(end) + '00'\n",
    "    save_path = 'models/FINAL' + s\n",
    "    writer = create_writer('EfficientNet_V2_L', 'All', s, '0.8split', 'SAM', 'SGD', '0.9momentum', '0.004lr', '1.5rho', 'seperate_transforms', '0.25dropout', 'one_layers_unfrozen')\n",
    "    sam_train(model=model, train_loader=train_loader, test_loader=test_loader, loss_fn=loss_fn, optimizer=optimizer, num_epochs=100, writer=writer, save_path=save_path)\n",
    "    "
   ]
  },
  {
   "cell_type": "code",
   "execution_count": null,
   "metadata": {},
   "outputs": [],
   "source": []
  }
 ],
 "metadata": {
  "kernelspec": {
   "display_name": "PyTorch",
   "language": "python",
   "name": "python3"
  },
  "language_info": {
   "codemirror_mode": {
    "name": "ipython",
    "version": 3
   },
   "file_extension": ".py",
   "mimetype": "text/x-python",
   "name": "python",
   "nbconvert_exporter": "python",
   "pygments_lexer": "ipython3",
   "version": "3.11.5"
  }
 },
 "nbformat": 4,
 "nbformat_minor": 2
}
